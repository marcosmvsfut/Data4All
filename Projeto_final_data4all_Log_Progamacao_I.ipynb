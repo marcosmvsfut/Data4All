{
  "nbformat": 4,
  "nbformat_minor": 0,
  "metadata": {
    "colab": {
      "provenance": []
    },
    "kernelspec": {
      "name": "python3",
      "display_name": "Python 3"
    },
    "language_info": {
      "name": "python"
    }
  },
  "cells": [
    {
      "cell_type": "markdown",
      "source": [
        "# Projeto final - Módulo 1\n",
        "\n",
        "- Objetivos:\n",
        "  - Construir um sistema de cadastro com um menu principal que possibilite realizar 6 operações: incluir usuário, excluir usuário, atualizar usuário, exibir informações de um usuário, exibir informações de todos os usuários e sair.\n"
      ],
      "metadata": {
        "id": "OiSlVHlQTyPy"
      }
    },
    {
      "cell_type": "markdown",
      "source": [
        "## Base de dados em lista"
      ],
      "metadata": {
        "id": "-YqCfrGGUi7Q"
      }
    },
    {
      "cell_type": "code",
      "execution_count": null,
      "metadata": {
        "id": "eSMGp7tBTuuI"
      },
      "outputs": [],
      "source": [
        "# Lista com todos os usuários e suas informações\n",
        "\n",
        "users = [\n",
        "    [1, 'João Antonio Martins', 9892345678, 'Rua Boa', True],\n",
        "    [2, 'Eduardo Oliveira da Silva', 1178358235, 'Rua Top', True],\n",
        "    [3, 'Gabriela Alves', 3853385267, 'Maiobão', False],\n",
        "    [4, 'Leticia Muniz', 6599923154, 'Rua Joaquim 119', True],\n",
        "    [5, 'André Ferreira Neto', 4415323154, 'Avenida Brasil', True]\n",
        "]\n",
        "\n",
        "# Sequencia das informações dos usuários para impressão\n",
        "\n",
        "info_imprimir = [' ID: ', ' Nome: ', ' Telefone: ', ' Endereço: ']"
      ]
    },
    {
      "cell_type": "markdown",
      "source": [
        "## Menus"
      ],
      "metadata": {
        "id": "xiaC5zWwq6Zc"
      }
    },
    {
      "cell_type": "code",
      "source": [
        "# Menu principal do usuário\n",
        "\n",
        "menu_principal= '''\\n --------------------------------------\n",
        "  Boas vindas ao nosso sistema:\n",
        "\n",
        "  1 - Inserir usuário\n",
        "  2 - Excluir usuário\n",
        "  3 - Atualizar usuário\n",
        "  4 - Informações de um usuário\n",
        "  5 - Informações de todos os usuários\n",
        "  6 - Sair\\n\n",
        "  -------------------------------------\\n'''\n",
        "\n",
        "# Menu de atualização de informações\n",
        "\n",
        "menu_atualizacao = '''\n",
        "  Qual informação deseja alterar?\n",
        "  1 - Nome\n",
        "  2 - Telefone\n",
        "  3 - Endereço'''"
      ],
      "metadata": {
        "id": "z5QVfcsaq6KL"
      },
      "execution_count": null,
      "outputs": []
    },
    {
      "cell_type": "markdown",
      "source": [
        "## Segurança do programa"
      ],
      "metadata": {
        "id": "bo7IUHGe2mU_"
      }
    },
    {
      "cell_type": "code",
      "source": [
        "# Segurança - quantidade de entradas no sistema\n",
        "\n",
        "def seguranca() -> Exception: \n",
        "  if count > 50:\n",
        "    raise Exception('Por motivos de segurança pedimos para reiniciar o sistema.')\n"
      ],
      "metadata": {
        "id": "RoggR2b2xIHO"
      },
      "execution_count": null,
      "outputs": []
    },
    {
      "cell_type": "markdown",
      "source": [
        "## Programa de cadastro dos dados"
      ],
      "metadata": {
        "id": "bdu2CBqop5Ol"
      }
    },
    {
      "cell_type": "code",
      "source": [
        "from pickle import TRUE\n",
        "# Iniciadores ou contadores\n",
        "import pandas as pd\n",
        "op = 0\n",
        "count = 0\n",
        "\n",
        "# Validadação da operação selecionada\n",
        "while op != 6:\n",
        "  \n",
        "  seguranca()\n",
        "\n",
        "  print(menu_principal)\n",
        "\n",
        "  op = int(input(' Digite a operação: '))\n",
        "  count += 1\n",
        "\n",
        "  if op == 6:   ## mensagem de encerramento do programa\n",
        "    print('\\n O programa foi encerrado.')\n",
        "\n",
        "  elif op < 1 or op > 5:     ## mensagem de invalidação da operação\n",
        "    print('\\n A operação inserida é inválida.')\n",
        "\n",
        "  else: ## operação validada\n",
        "    \n",
        "    # Inserir usuário \n",
        "    if op == 1:\n",
        "      print('\\n ----- Inserir Usuário ----- \\n')\n",
        "\n",
        "      # Criando lista com as informações do usuário para inserir no banco de dados\n",
        "      info = [users[-1][0] + 1,               ## ID\n",
        "              input(' Nome: ').title(),       ## Nome\n",
        "              int(input(' Telefone: ')),      ## Telefone\n",
        "              input(' Endereço:').title(),    ## Endereço\n",
        "              True]                           ## Status\n",
        "\n",
        "      users.append(info)    ## inserindo usuário\n",
        "      print('\\n O usuário foi inserido.')\n",
        "\n",
        "\n",
        "    # Excluir usuário\n",
        "    elif op == 2:\n",
        "      print('\\n ----- Excluir Usuário ----- \\n')\n",
        "\n",
        "      user_2 = int(input('Digite o ID do usuário que deseja excluir: '))\n",
        "\n",
        "      # Validação do usuário\n",
        "      while user_2 > len(users) or user_2 < 0 or users[user_2 - 1][4] == False:\n",
        "        print(' Usuário não encontrado!')\n",
        "        user_2 = int(input('\\n Insira o ID do usuário: '))\n",
        "        count += 1\n",
        "        seguranca()\n",
        "\n",
        "      # Operação validada\n",
        "      for i in users:\n",
        "        if(user_2 == i[0]):\n",
        "          print('')\n",
        "          for idx,informacao in enumerate(info_imprimir):\n",
        "              print(informacao, i[idx])\n",
        "          i[-1] = False\n",
        "          print('\\n USUÁRIO EXCLUÍDO')\n",
        "\n",
        "    # Atualizar usuário\n",
        "    elif op == 3:\n",
        "      print('\\n ----- Atualizar Usuário ----- \\n')\n",
        "      print('\\n obs: caso deseje voltar ao menu principal, tecle 0.')\n",
        "\n",
        "      user_3 = int(input(' Insira o ID do usuário: '))\n",
        "\n",
        "      # Validação do usuário\n",
        "      while user_3 > len(users) or user_3 < 0 or users[user_3 - 1][4] == False:\n",
        "        print(' Usuário não encontrado!')\n",
        "        user_3 = int(input('\\n Insira o ID do usuário: '))\n",
        "        count += 1\n",
        "\n",
        "        seguranca()\n",
        "\n",
        "      else:    ## usuário validado\n",
        "        if user_3 == 0:\n",
        "          pass\n",
        "\n",
        "        else:\n",
        "          # Imprimindo as informações do usuário\n",
        "          print('\\n --- Usuário --- \\n')\n",
        "\n",
        "          for idx, informacao in enumerate(info_imprimir):\n",
        "            print(informacao, users[user_3 - 1][idx])\n",
        "          print('\\n')\n",
        "\n",
        "\n",
        "          # Solicitando operação\n",
        "          print(menu_atualizacao)\n",
        "          op_atualiza = int(input('\\n Digite a operação:  '))\n",
        "\n",
        "          # Validação da operação\n",
        "          while op_atualiza < 1 or op_atualiza > 3 :\n",
        "            count += 1\n",
        "            op_atualiza = int(input('\\n Operação inválida. Insira novamente: '))\n",
        "\n",
        "            seguranca()\n",
        "\n",
        "          else: ## operação validada\n",
        "            if op_atualiza != 2:\n",
        "              users[user_3 - 1][op_atualiza] = input(info_imprimir[op_atualiza]).title() ## atualização nome ou endereço\n",
        "            else:\n",
        "              users[user_3 - 1][op_atualiza] = int(input(info_imprimir[op_atualiza])) ## atualização telefone\n",
        "\n",
        "          print('\\n O usuário foi atualizado.')\n",
        "\n",
        "    # Informações de um usuário\n",
        "    elif op == 4:\n",
        "      print('\\n----- Informações do usuário ----- \\n')\n",
        "      \n",
        "      user_4 = int(input('Digite o ID do usuário desejado: '))\n",
        "\n",
        "      # Validação do usuário\n",
        "      while user_4 > len(users) or user_4 < 0 or users[user_4 - 1][4] == False:\n",
        "        print(' Usuário não encontrado!')\n",
        "        user_4 = int(input('\\n Insira o ID do usuário: '))\n",
        "        count += 1\n",
        "\n",
        "      for i in users:\n",
        "        if(user_4 == i[0]):\n",
        "          print('')\n",
        "          for idx,informacao in enumerate(info_imprimir):\n",
        "              print(informacao, i[idx])\n",
        "         \n",
        "     \n",
        "    # Informações de todos os usuários\n",
        "    else:\n",
        "      print('\\n--- Informações de todos os usuários --- \\n')\n",
        "      \n",
        "      for i in range(len(users)):\n",
        "        if (users[i][-1] == True):\n",
        "          for idx, informacao in enumerate(info_imprimir):\n",
        "              print(informacao, users[i][idx])\n",
        "          print('')\n",
        "        \n",
        "     \n",
        "\n",
        "\n",
        "\n",
        "\n",
        "\n"
      ],
      "metadata": {
        "colab": {
          "base_uri": "https://localhost:8080/"
        },
        "id": "SAdwUmU8VaGw",
        "outputId": "31fbdd21-808d-4460-f188-3898be91c9dc"
      },
      "execution_count": null,
      "outputs": [
        {
          "output_type": "stream",
          "name": "stdout",
          "text": [
            "\n",
            " --------------------------------------\n",
            "  Boas vindas ao nosso sistema:\n",
            "\n",
            "  1 - Inserir usuário\n",
            "  2 - Excluir usuário\n",
            "  3 - Atualizar usuário\n",
            "  4 - Informações de um usuário\n",
            "  5 - Informações de todos os usuários\n",
            "  6 - Sair\n",
            "\n",
            "  -------------------------------------\n",
            "\n",
            " Digite a operação: 6\n",
            "\n",
            " O programa foi encerrado.\n"
          ]
        }
      ]
    }
  ]
}